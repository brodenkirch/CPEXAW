{
 "cells": [
  {
   "cell_type": "markdown",
   "id": "982db12f",
   "metadata": {},
   "source": [
    "### How to read and plot IMERG data from NASA GES DISC and Earthdata using Python:\n",
    "\n",
    "Data: https://disc.gsfc.nasa.gov/information/howto?title=How%20to%20Read%20IMERG%20Data%20Using%20Python\n",
    "\n",
    "How-to-Plot Guide (Jupyter Notebook): https://disc.gsfc.nasa.gov/information/howto?title=How%20to%20Read%20IMERG%20Data%20Using%20Python"
   ]
  },
  {
   "cell_type": "markdown",
   "id": "29265afa",
   "metadata": {},
   "source": [
    "### Overview:\n",
    "\n",
    "This recipe shows how to read data from the Global Precipitation Measurement (GPM) mission's IMERG dataset using Python."
   ]
  },
  {
   "cell_type": "markdown",
   "id": "b4dc96e6",
   "metadata": {},
   "source": [
    "### Example:\n",
    "\n",
    "**Example data:** GPM Level 3 IMERG Monthly 0.1 x 0.1 degree Precipitation (GPM_3IMERGM) for January 2014.\n",
    "\n",
    "**Estimated Time to complete the following procedures:** 20 minutes"
   ]
  },
  {
   "cell_type": "markdown",
   "id": "94584f5a",
   "metadata": {},
   "source": [
    "### Prerequisites:\n",
    "\n",
    "**Task:** Viewing Data\n",
    "\n",
    "**Best When:** The user wants to read in GPM IMERG data using Python\n",
    "\n",
    "**Requirements:** Python and the free packages: h5py, numpy, matplotlib, and cartopy. Matplotlib and Cartopy are only needed for plotting."
   ]
  },
  {
   "cell_type": "markdown",
   "id": "8b10328f",
   "metadata": {},
   "source": [
    "### Procedure:\n",
    "\n",
    "#### 1. Download the data\n",
    "\n",
    "Before accessing data at GES DISC, a user must first register with Earthdata Login, then be authorized to access data at GES DISC by following steps at: https://disc.gsfc.nasa.gov/information/documents?title=Data%20Access\n",
    "\n",
    "1. In a web browser, go to: https://disc.gsfc.nasa.gov </ul>\n",
    "2. In the Search field, enter \"imerg\" and press enter.\n",
    "3. Click on the latest version of the half hourly/daily/monthly average IMERG data, currently version 7:\n",
    "\n",
    "    i)   Click on the \"Online Archive\" button on the right.\n",
    "\n",
    "    ii)  Click on the \"2014/\" folder\n",
    "    \n",
    "    iii) Click on the link \"3B-MO.MS.MRG.3IMERG.20140101-S000000-E235959.01.V06B.HDF5\" to download the data file.\n",
    "\n",
    "**Note:** Instead of doing steps i) - iii) above, you could also just click on Subset/Get Data below the desired version and select your desired time range\n",
    "\n",
    "**Note:** this recipe works for any IMERG data, not just monthly estimates.\n"
   ]
  },
  {
   "cell_type": "markdown",
   "id": "4a3297ed",
   "metadata": {},
   "source": [
    "#### 2. Run the following cells to learn how to read and plot IMERG data with Python"
   ]
  },
  {
   "cell_type": "code",
   "execution_count": 1,
   "id": "f867316e",
   "metadata": {},
   "outputs": [],
   "source": [
    "#Import the required Python libraries. If any of the following import commands fail, then\n",
    "    #check the local Python environment and install any missing packages.\n",
    "\n",
    "import os\n",
    "import sys\n",
    "import h5py\n",
    "import numpy as np\n",
    "import matplotlib.pyplot as plt\n",
    "import matplotlib.colors as mplc\n",
    "import cartopy.crs as ccrs\n",
    "from cartopy.mpl.gridliner import LONGITUDE_FORMATTER, LATITUDE_FORMATTER\n",
    "import matplotlib.ticker as mticker\n"
   ]
  },
  {
   "cell_type": "code",
   "execution_count": 2,
   "id": "38596798",
   "metadata": {},
   "outputs": [],
   "source": [
    "#Open the IMERG data for reading\n",
    "\n",
    "#Add a path to the filename if it the IMERG file is not in the working directory\n",
    "file_date = '20210824'\n",
    "day_folder = os.path.join(os.getcwd(), file_date)\n",
    "fn = os.path.join(day_folder, 'IMERG_files', '3B-HHR.MS.MRG.3IMERG.20210824-S143000-E145959.0870.V07A.HDF5')\n",
    "f = h5py.File(fn, 'r')\n"
   ]
  },
  {
   "cell_type": "code",
   "execution_count": 3,
   "id": "274eb532",
   "metadata": {},
   "outputs": [
    {
     "name": "stdout",
     "output_type": "stream",
     "text": [
      "['Grid']\n",
      "['Intermediate', 'nv', 'lonv', 'latv', 'time', 'lon', 'lat', 'time_bnds', 'lon_bnds', 'lat_bnds', 'precipitation', 'randomError', 'probabilityLiquidPrecipitation', 'precipitationQualityIndex']\n",
      "['MWprecipitation', 'MWprecipSource', 'MWobservationTime', 'IRprecipitation', 'IRinfluence', 'precipitationUncal']\n"
     ]
    }
   ],
   "source": [
    "#View the available groups in the file and the variables in the 'Grid' group:\n",
    "\n",
    "#groups = [ x for x in f.keys() ]\n",
    "#print(groups)\n",
    "print([ x for x in f.keys() ])\n",
    "\n",
    "#gridMembers = [ x for x in f['Grid'] ]\n",
    "#print(gridMembers)\n",
    "print([ x for x in f['Grid'] ])                #see IMERG_V07_ATBD_final.pdf p.32 for what these variables mean\n",
    "print([ x for x in f['Grid/Intermediate'] ])   #see IMERG_V07_ATBD_final.pdf p.32 for what these variables mean\n",
    "                \n",
    "                                               #see IMERG_V07_ATBD_final.pdf p.48-49 for Quality Index information"
   ]
  },
  {
   "cell_type": "code",
   "execution_count": 4,
   "id": "129f6d69",
   "metadata": {},
   "outputs": [
    {
     "name": "stdout",
     "output_type": "stream",
     "text": [
      "Time Shape: (1,)\n",
      "Original Precip Shape: (1, 3600, 1800)\n",
      "New Precip Shape: (3600, 1800)\n",
      "Newest Precip Shape: (1800, 3600)\n",
      "Latitude Shape: (1800,)\n",
      "Longitude Shape: (3600,)\n",
      "Longitude grid shape: (1800, 3600)\n",
      "Latitude grid shape: (1800, 3600)\n"
     ]
    }
   ],
   "source": [
    "#Read the precipitation, latitude, and longitude data:\n",
    "\n",
    "#Get the precipitation, latitude, and longitude variables\n",
    "print ('Time Shape:', f['Grid/time'].shape)\n",
    "print ('Original Precip Shape:', f['Grid/precipitation'].shape)\n",
    "\n",
    "precip = f['Grid/precipitation'][0][:][:]\n",
    "print ('New Precip Shape:', precip.shape)\n",
    "\n",
    "precip = np.transpose(precip)\n",
    "print ('Newest Precip Shape:', precip.shape)\n",
    "\n",
    "#mask blank data\n",
    "precip_masked = np.ma.masked_where(precip < 0, precip)  #masks blank and bad data first (if blank data is -999 instead of NaN)\n",
    "precip_masked = np.ma.masked_where(np.isnan(precip_masked), precip_masked)  #masks NaN values (not masked in previous line)\n",
    "\n",
    "theLats = f['Grid/lat'][:]\n",
    "theLons = f['Grid/lon'][:]\n",
    "print ('Latitude Shape:', theLats.shape)\n",
    "print ('Longitude Shape:', theLons.shape)\n",
    "\n",
    "x, y = np.meshgrid(theLons, theLats)\n",
    "print ('Longitude grid shape:', x.shape)\n",
    "print ('Latitude grid shape:', y.shape)"
   ]
  },
  {
   "cell_type": "code",
   "execution_count": 5,
   "id": "55b2a293",
   "metadata": {},
   "outputs": [
    {
     "name": "stdout",
     "output_type": "stream",
     "text": [
      "-9999.9\n",
      "0.0\n",
      "54.55\n",
      "54.55\n"
     ]
    }
   ],
   "source": [
    "print (precip.min())\n",
    "print (precip_masked.min())\n",
    "print (precip.max())\n",
    "print (precip_masked.max())"
   ]
  },
  {
   "cell_type": "code",
   "execution_count": 6,
   "id": "15f508c2",
   "metadata": {},
   "outputs": [],
   "source": [
    "#Plot the data using matplotlib and Cartopy\n",
    "\n",
    "# Set the figure size, projection, and extent\n",
    "fig = plt.figure(figsize = (21,7))\n",
    "ax = plt.axes(projection = ccrs.PlateCarree())\n",
    "ax.set_extent([-180, 180, -60, 60], ccrs.PlateCarree()) #lat/lon bounds are [West,East,South,North]\n",
    "\n",
    "# Add coastlines and formatted gridlines\n",
    "ax.coastlines(resolution = '110m', linewidth = 1)\n",
    "gl = ax.gridlines(crs = ccrs.PlateCarree(), draw_labels = True, linewidth = 1, color = 'k', linestyle = '--')\n",
    "gl.top_labels = False\n",
    "gl.right_labels = False\n",
    "#gl.xlines = False\n",
    "gl.xlocator = mticker.FixedLocator([-180, -90, 0, 90, 180])\n",
    "gl.ylocator = mticker.FixedLocator([-60, -50, -25, 0, 25, 50, 60])\n",
    "gl.xformatter = LONGITUDE_FORMATTER\n",
    "gl.yformatter = LATITUDE_FORMATTER\n",
    "gl.xlabel_style = {'size':16, 'color':'black'}\n",
    "gl.ylabel_style = {'size':16, 'color':'black'}\n",
    "\n",
    "# Set contour levels and draw the plot\n",
    "#clevs = np.arange(0.1, 40.5, 1)                             #for linear colorbar\n",
    "clevs = np.logspace(np.log10(0.1), np.log10(40), num = 40)   #for logarithmic colorbar\n",
    "plt.pcolormesh(x, y, precip_masked, norm = mplc.LogNorm(vmin = 0.1, vmax = 40), cmap = plt.cm.jet, transform = ccrs.PlateCarree())\n",
    "#plt.contourf(x, y, precip_masked, clevs, norm = 'log', extend = 'max', cmap = plt.cm.jet, transform = ccrs.PlateCarree())\n",
    "plt.title('GPM IMERG Half Hourly Mean Rain Rate for 2021/08/24 15Z', size = 24)\n",
    "\n",
    "# Set colorbar\n",
    "ticks_imerg = np.array([0.1, 1, 5, 10, 20, 40])\n",
    "cb = plt.colorbar(ax = ax, orientation = \"vertical\", ticks = ticks_imerg, pad = 0.02, aspect = 16, shrink = 0.8)\n",
    "cb.set_label('IMERG [mm hr$^{-1}$]', size = 20)\n",
    "cb.ax.tick_params(labelsize = 16)\n",
    "cb.ax.set_yticklabels(list(map(str, list(ticks_imerg))))  #labels automatically default to tick values given to ticks parameter in fig.colorbar(), unless you're using a log scale I guess\n",
    "cb.ax.yaxis.set_ticks_position('right')\n",
    "cb.ax.yaxis.set_label_position('right')\n",
    "\n",
    "#Save the figure as a PNG:\n",
    "plt.savefig('/Users/brodenkirch/Desktop/GPM_IMERGV7_plot.png', bbox_inches = 'tight', pad_inches = 0.1)\n",
    "plt.close()\n"
   ]
  },
  {
   "cell_type": "code",
   "execution_count": 7,
   "id": "326b405a",
   "metadata": {},
   "outputs": [
    {
     "data": {
      "text/plain": [
       "array([ 0.1       ,  0.11660562,  0.13596871,  0.15854716,  0.1848749 ,\n",
       "        0.21557452,  0.25137201,  0.2931139 ,  0.34178728,  0.39854318,\n",
       "        0.46472375,  0.54189402,  0.63187889,  0.7368063 ,  0.85915756,\n",
       "        1.00182601,  1.16818545,  1.3621699 ,  1.58836667,  1.85212482,\n",
       "        2.15968165,  2.51831021,  2.93649126,  3.42411388,  3.99270926,\n",
       "        4.65572344,  5.42883523,  6.33032705,  7.38151718,  8.60726396,\n",
       "       10.03655361, 11.70318568, 13.64657237, 15.91267048, 18.55506827,\n",
       "       21.63625262, 25.22908677, 29.41853335, 34.30366357, 40.        ])"
      ]
     },
     "execution_count": 7,
     "metadata": {},
     "output_type": "execute_result"
    }
   ],
   "source": [
    "np.logspace(np.log10(0.1), np.log10(40), num = 40)"
   ]
  },
  {
   "cell_type": "code",
   "execution_count": null,
   "id": "ae5b6a8f",
   "metadata": {},
   "outputs": [],
   "source": []
  }
 ],
 "metadata": {
  "kernelspec": {
   "display_name": "Python 3 (ipykernel)",
   "language": "python",
   "name": "python3"
  },
  "language_info": {
   "codemirror_mode": {
    "name": "ipython",
    "version": 3
   },
   "file_extension": ".py",
   "mimetype": "text/x-python",
   "name": "python",
   "nbconvert_exporter": "python",
   "pygments_lexer": "ipython3",
   "version": "3.9.17"
  }
 },
 "nbformat": 4,
 "nbformat_minor": 5
}
